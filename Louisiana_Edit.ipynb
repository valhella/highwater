{
 "cells": [
  {
   "cell_type": "code",
   "execution_count": 6,
   "metadata": {},
   "outputs": [],
   "source": [
    "from IPython.display import Image\n",
    "from IPython.core.display import HTML "
   ]
  },
  {
   "cell_type": "markdown",
   "metadata": {},
   "source": [
    "# Hope and High Water\n",
    "## A Data Story\n",
    "#### By Val Masters, 2019"
   ]
  },
  {
   "cell_type": "markdown",
   "metadata": {},
   "source": [
    "This data story seeks to explore a subset of communities affected by sea level rise in Louisiana. I chose to examine the city of New Orleans, Grand Bayou Village in Plaquemines parish, and Grand Gaillou/Dulac in Terrebonne parish. The latter two communities are primarily comprised of Native Americans of the Biloxi-Chitimacha-Choctaw tribe, whose struggles are intimately connected with the land and amplified by [challenges such as lack of transportation to jobs and healthcare, which continues the cycle of poverty.](https://www.gcdbcc.org/what-we-do) Despite seemingly insurmountable challenges, the leaders of these communities continue to advocate for their people and push the federal and state governments to do justice by the tribes.\n",
    "\n",
    "\n",
    "\n",
    "In an attempt to set an example of accountability and transparency, I will do my best to document my process, assumptions, and failures in this data story. The story is as much about the people I set out to highlight as it is about the nature of data and data tools and the people who use them. \n"
   ]
  },
  {
   "cell_type": "code",
   "execution_count": 8,
   "metadata": {},
   "outputs": [
    {
     "data": {
      "text/html": [
       "<img src=\"https://raw.githubusercontent.com/valhella/highwater/master/images/bands.png\" width=\"800\"/>"
      ],
      "text/plain": [
       "<IPython.core.display.Image object>"
      ]
     },
     "execution_count": 8,
     "metadata": {},
     "output_type": "execute_result"
    }
   ],
   "source": [
    "Image(url = \"https://raw.githubusercontent.com/valhella/highwater/master/images/bands.png\", width = 800)"
   ]
  },
  {
   "cell_type": "markdown",
   "metadata": {},
   "source": [
    "Map of tribal community locations in Louisiana. Reproduced from [Yeoman, 2017](https://www.sapiens.org/culture/louisiana-native-americans-climate-change/)."
   ]
  },
  {
   "cell_type": "markdown",
   "metadata": {},
   "source": [
    "## Background and Context"
   ]
  },
  {
   "cell_type": "code",
   "execution_count": 19,
   "metadata": {},
   "outputs": [
    {
     "data": {
      "text/html": [
       "<img src=\"https://raw.githubusercontent.com/valhella/highwater/master/images/flooddepth.png\" width=\"800\" height=\"800\"/>"
      ],
      "text/plain": [
       "<IPython.core.display.Image object>"
      ]
     },
     "execution_count": 19,
     "metadata": {},
     "output_type": "execute_result"
    }
   ],
   "source": [
    "Image(url = \"https://raw.githubusercontent.com/valhella/highwater/master/images/flooddepth.png\", width = 800, height = 800)"
   ]
  },
  {
   "cell_type": "markdown",
   "metadata": {},
   "source": [
    "Figure 1. An image of the lower Mississippi Basin's projected flood depths for a 100-year flood in 2067, given no climate or coastline protection action and a degraded landscape. \n",
    "\n",
    "\n",
    "When preparing any research or data vizualization, a creator must consider what has already been created. In doing research on sea level in the Lower Mississippi Basin, I found a wide range of existing vizualizations created by different sectors: local and state government, national scientific bodies, as well as independently made vizualizations. I was quite intimidated by the quality and scope of these vizualizations, and realized that though I could not compete, I could compare. Quantity and quality of research and data products is not a problem in the United States climate sector, but the abundance can be bewildering, especially for a non-scientist who just wants to know if they can get away with a few sandbags or some stilts. However, this data story is intended for those with a decent amount of data/visualization literacy. I did not set out to define and explain all terms and mechanisms, though for the more niche ones I offer some description. \n",
    "\n",
    "\n",
    "The visualization in figure 1 was produced by the State of Louisiana from their Master Plan tool and presented in the [executive summary](http://coastal.la.gov/wp-content/uploads/2017/04/2017-Coastal-Master-Plan_Web-Book_CFinal-with-Effective-Date-06092017.pdf) promoting the plan. Action-oriented interactive data products like the [State of Louisiana's Master Plan tool](http://cims.coastal.louisiana.gov/masterplan/) rise above the rest. The online map allows a user to search for an address and filter by year and type of coastal risk. This tackles the problem of specificity, which is difficult to achieve with global projections. The map has the added benefit of hope: the tool has built-in capabilities of seeing how Louisiana's plan will protect the coast. \n"
   ]
  },
  {
   "cell_type": "code",
   "execution_count": 36,
   "metadata": {},
   "outputs": [
    {
     "data": {
      "text/html": [
       "<img src=\"https://raw.githubusercontent.com/valhella/highwater/master/images/planbenefits.png\" width=\"800\" height=\"500\"/>"
      ],
      "text/plain": [
       "<IPython.core.display.Image object>"
      ]
     },
     "execution_count": 36,
     "metadata": {},
     "output_type": "execute_result"
    }
   ],
   "source": [
    "Image(url = \"https://raw.githubusercontent.com/valhella/highwater/master/images/planbenefits.png\", width = 800, height = 500)"
   ]
  },
  {
   "cell_type": "markdown",
   "metadata": {},
   "source": [
    "Figure 2. Another image produced by the State of Louisiana Master Plan tool, this time showing the benefits of adopting the Plan. The map shows land maintained and gained by 2067 if all aspects of the coastal protection plan are implemented. Though the land lost is shown in red, somehow the eye is drawn to the positives: land above sea level. It is unclear from the executive summary whether this visualization accounts for localized land subsidence or if it only demonstrates effects of global sea level rise. If it does not account for subsidence, it is far too optimistic.\n",
    "\n",
    "In its far-out view, this map does not mention that many small communities will be determined unfit for protection: the cost would be too great. The state's solution, in some cases, is to offer money to resettle these small communities within the zone of safety, and away from their ancestral lands. This is a particularly jarring and unacceptable solution for many Louisiana Native Americans. \n",
    "\n",
    "A theft, redoubled. First by settler-colonialists, and then by the climate change wrought mainly by the desendents of those settlers. "
   ]
  },
  {
   "cell_type": "code",
   "execution_count": 37,
   "metadata": {},
   "outputs": [
    {
     "data": {
      "text/html": [
       "<img src=\"https://raw.githubusercontent.com/valhella/highwater/master/images/subsidence.png\" width=\"800\" height=\"600\"/>"
      ],
      "text/plain": [
       "<IPython.core.display.Image object>"
      ]
     },
     "execution_count": 37,
     "metadata": {},
     "output_type": "execute_result"
    }
   ],
   "source": [
    "Image(url = \"https://raw.githubusercontent.com/valhella/highwater/master/images/subsidence.png\", width = 800, height = 600)"
   ]
  },
  {
   "cell_type": "markdown",
   "metadata": {},
   "source": [
    "Figure 3. Something that is often brushed over in popular conversation and graphics related to sea level rise is subsidence (sinking of the land). Though ice melt and heat-driven water expansion is highly significant, a landmass can avoid sea level rise complications if the landmass itself is rising (due to glacial rebound or upthrust). Alternatively (and in the case of Louisiana), a landmass can experience amplified effects of sea level rise if the land is sinking to meet the waves. The above graphic shows \"hotspots\" of subsidence across Louisiana, with the areas sinking fastest in Plaquemines, Terrebone, and New Orleans. (This figure reproduced from [Zou et al, 2015](https://doi.org/10.3390/w8010010)) "
   ]
  },
  {
   "cell_type": "markdown",
   "metadata": {},
   "source": [
    "#### \"Of the 2.96 feet of local relative sea level rise over the past 100 years [in Louisiana], only ~0.5 feet were from global sea level rise. The rest was from local subsidence.\" \n",
    "\n",
    "--[Doug Marcy](https://geozoneblog.wordpress.com/2015/09/21/louisiana-hard-to-map/)"
   ]
  },
  {
   "cell_type": "markdown",
   "metadata": {},
   "source": [
    "Any flood-risk or sea level rise data visualizations failing to take into account subsidence rates will ultimately fail to accurately predict risk levels. Note that the subsidence rates were interpolated based on benchmark data-collecting stations (shown as red dots). The average rate of subsidence across the Lower Mississippi River Basin is  9.25 mm/yr, while the rate in New Orleans is 10-15 mm/yr and the rate in Plaquemines is  15-20 mm/yr according to research by [Zou et al, 2015](https://doi.org/10.3390/w8010010). Based on the high subsidence rate in Plaquemines, it seems unlikely that any land will be maintained there as figure 2 suggests. "
   ]
  },
  {
   "cell_type": "markdown",
   "metadata": {},
   "source": [
    "## My Contribution to the Story: Human-Driven GIS Analysis"
   ]
  },
  {
   "cell_type": "markdown",
   "metadata": {},
   "source": [
    "Given the political ambitions of the State of Lousiana's Master Plan Tool and the often prohibitive complexity of data visualizations in scientific papers, I set out to create a new data visualization. My visualization is centered on the interests of communities affected most by sea level rise and draws on established technical methods."
   ]
  },
  {
   "cell_type": "code",
   "execution_count": 38,
   "metadata": {},
   "outputs": [
    {
     "data": {
      "text/html": [
       "<img src=\"https://raw.githubusercontent.com/valhella/highwater/master/images/LA.png\" width=\"800\" height=\"700\"/>"
      ],
      "text/plain": [
       "<IPython.core.display.Image object>"
      ]
     },
     "execution_count": 38,
     "metadata": {},
     "output_type": "execute_result"
    }
   ],
   "source": [
    "Image(url = \"https://raw.githubusercontent.com/valhella/highwater/master/images/LA.png\", width =800, height = 700)"
   ]
  },
  {
   "cell_type": "markdown",
   "metadata": {},
   "source": [
    "Figure 4. My own creation and mini data story. Though I would like to say I struggled with the tension between aesthetics and truth, in truth there was no way to make this pretty. I had far too much text to include. Since the DEM data was very high resolution, I had to pick and choose a small subset of data to focus on. The background black and white is a lyr. file, meaning I could not actually extract any data from it, but I included it for reference and changed the symbology to match projected sea level rise categories. \n",
    "\n",
    "Note the text below the map briefly attributing data sources and analysis. This is all I can really fit on a map if I want to give the maximum amount of room to data visualization, rather than explanation. Striking the right balance, not only volume-wise but visually, is a tension that emerged during this work.\n",
    "\n",
    "This map is a combination of realistic and optimistic. Realistic: I chose to model the sea level rise based on average predictions. Optimistic: I chose not to model the hyper-subsidence in Terrebones, Plaquemines, and Orleans parishes, but chose the overall Lower Mississippi River Basin's average sinking rate. "
   ]
  },
  {
   "cell_type": "code",
   "execution_count": 39,
   "metadata": {},
   "outputs": [
    {
     "data": {
      "text/html": [
       "<img src=\"https://raw.githubusercontent.com/valhella/highwater/master/images/LA_zoom_dulac.png\" width=\"800\"/>"
      ],
      "text/plain": [
       "<IPython.core.display.Image object>"
      ]
     },
     "execution_count": 39,
     "metadata": {},
     "output_type": "execute_result"
    }
   ],
   "source": [
    "Image(url = \"https://raw.githubusercontent.com/valhella/highwater/master/images/LA_zoom_dulac.png\", width = 800)"
   ]
  },
  {
   "cell_type": "markdown",
   "metadata": {},
   "source": [
    "Figure 5. My own creation, but focused on Dulac and the Grand Caillou/Dulac Band of Biloxi-Chitimacha-Choctaw Indians. "
   ]
  },
  {
   "cell_type": "code",
   "execution_count": 27,
   "metadata": {},
   "outputs": [
    {
     "data": {
      "text/html": [
       "<img src=\"https://raw.githubusercontent.com/valhella/highwater/master/images/LA_zoom_bayou.png\" width=\"800\"/>"
      ],
      "text/plain": [
       "<IPython.core.display.Image object>"
      ]
     },
     "execution_count": 27,
     "metadata": {},
     "output_type": "execute_result"
    }
   ],
   "source": [
    "Image(url = \"https://raw.githubusercontent.com/valhella/highwater/master/images/LA_zoom_bayou.png\", width = 800)"
   ]
  },
  {
   "cell_type": "markdown",
   "metadata": {},
   "source": [
    "Figure 6. Focus on Grand Bayou Village and the Atakapa-Ishak/Grand Bayou Biloxi-Chitimacha-Choctaw people, whose homes are primarily in the blue zone indicated by the red line. They are only accessible by boat. "
   ]
  },
  {
   "cell_type": "markdown",
   "metadata": {},
   "source": [
    "## These Numbers, These Lands, These People\n",
    "\n"
   ]
  },
  {
   "cell_type": "markdown",
   "metadata": {},
   "source": [
    "![Image](https://raw.githubusercontent.com/valhella/highwater/master/images/grandcaillou_dulac_people.jpg)"
   ]
  },
  {
   "cell_type": "markdown",
   "metadata": {},
   "source": [
    "[The First People's Conservation Council of Louisiana](https://fpcclouisiana.org/our-communities/our-tribal-communities/), composed of Biloxi-Chitimacha-Choctaw people and other tribes in coastal Louisiana. "
   ]
  },
  {
   "cell_type": "markdown",
   "metadata": {},
   "source": [
    "What do the numbers and colors on the map say to you? When the map gives the number of people living below sea level, what do you picture, imagine their lives to be like? Do you trust these numbers, and know where they came from?\n",
    "\n",
    "### What do the people say?\n",
    "Louisiana is unceded land.\n",
    "[The people of Atakapa Grand Bayou do not want to move.](https://thelensnola.org/2016/12/27/native-americans-of-grand-bayou-seeking-help-for-homeland/)\n",
    "But they cannot stay, unless a grand effort at wetland restoration infrastructure upgrade takes place, and a immediate limiting of carbon emissions. Even this may not even be enough, and the band is fully aware of this. Still, they push the government to look beyond weak measures like levees and relocation money. Justice, according to the band, would look like specific attention from the government to the needs of the community and long-term measures of mitigation and adaptation. \n",
    "\n",
    "Only 40 people remain in Grand Bayou, but their lives, and their histories, are worth protecting. \n",
    "\n"
   ]
  },
  {
   "cell_type": "code",
   "execution_count": 28,
   "metadata": {},
   "outputs": [
    {
     "data": {
      "text/html": [
       "<img src=\"https://raw.githubusercontent.com/valhella/highwater/master/images/Grandbayou_elder.jpg\" width=\"800\"/>"
      ],
      "text/plain": [
       "<IPython.core.display.Image object>"
      ]
     },
     "execution_count": 28,
     "metadata": {},
     "output_type": "execute_result"
    }
   ],
   "source": [
    "Image(url = \"https://raw.githubusercontent.com/valhella/highwater/master/images/Grandbayou_elder.jpg\", width = 800)"
   ]
  },
  {
   "cell_type": "markdown",
   "metadata": {},
   "source": [
    "#### “They say we are a ‘high risk’ community. But how did we become high risk, and who was responsible for that? The industries that destroyed the environment we need to survive, and the people who work for them, they are being protected but we are not.”\n",
    "-- Rosina Philippe, elder and spokeswoman for the Atakapas-Ishak/Chawasha tribe, pictured at left"
   ]
  },
  {
   "cell_type": "markdown",
   "metadata": {},
   "source": [
    "<p></p>\n",
    "\n",
    "\n",
    "\n",
    "\n"
   ]
  },
  {
   "cell_type": "markdown",
   "metadata": {},
   "source": [
    "<p>\n",
    "\n",
    "\n",
    "\n",
    "\n",
    "</p>"
   ]
  },
  {
   "cell_type": "code",
   "execution_count": 29,
   "metadata": {},
   "outputs": [
    {
     "data": {
      "text/html": [
       "<img src=\"https://raw.githubusercontent.com/valhella/highwater/master/images/chief_dardar.jpg\" width=\"800\"/>"
      ],
      "text/plain": [
       "<IPython.core.display.Image object>"
      ]
     },
     "execution_count": 29,
     "metadata": {},
     "output_type": "execute_result"
    }
   ],
   "source": [
    "Image(url = \"https://raw.githubusercontent.com/valhella/highwater/master/images/chief_dardar.jpg\", width = 800)"
   ]
  },
  {
   "cell_type": "markdown",
   "metadata": {},
   "source": [
    "[The people of Grand Caillou/Dulac](https://www.gcdbcc.org/what-we-do) have accepted that in order to survive, the young people must leave. But leaving is truly leaving. Leaving [buried ancestors](https://www.gcdbcc.org/projects), family, lands, spiritual connections, traditional livelihoods: home. Those with roots buried deep, including the Chief, Shirell Parfait-Dardar (pictured above), [want to stay](https://www.upi.com/Science_News/2017/12/05/Native-groups-fight-to-save-land-culture-from-rising-tides/3881512148020/). They are petitioning the federal government for recognition and assistance with land maintenance, and they are hopeful that if they suceed, the community can manage to stay together. \n",
    "Photo from the tribe's [Facebook page.](https://www.facebook.com/Grand-CaillouDulac-Band-of-Biloxi-Chitimacha-Choctaw-Indians-167836366609938/)"
   ]
  },
  {
   "cell_type": "markdown",
   "metadata": {},
   "source": [
    "## When resettlement is expensive and undesirable, but the land is no longer viable, what choices remain?"
   ]
  },
  {
   "cell_type": "markdown",
   "metadata": {},
   "source": [
    "Human action on the land can and will change Louisiana's land/waterscape. But what my maps, combined with other visualizations showing flood risk (figure 1) and land loss (figure 2) shows is that some areas, especially Plaquemines parish (which includes Grand Bayou village) with its high subsidence rate (figure 3) will become too expensive to maintain or impossible to maintain altogether. Relocation, adaptation measures like creating floating villages, and high-cost efforts to restore wetlands and maintain infrastructure will be the only options for saving human life. Floating villages will be difficult to access in a swampy and constantly shifting waterscape with flooded roads. Not only this, but any floating structures will likely be destroyed in the next strong hurricane. \n",
    "\n",
    "The people living in rural southern Louisiana have few options, but this situation did not develop overnight. Their story can engender awareness and motivation to limit global warming and manage wetlands intelligently before this problem rises to submerge all coastal communities. "
   ]
  },
  {
   "cell_type": "markdown",
   "metadata": {},
   "source": [
    "___"
   ]
  },
  {
   "cell_type": "markdown",
   "metadata": {},
   "source": [
    "## Endnotes: A transparent visual"
   ]
  },
  {
   "cell_type": "markdown",
   "metadata": {},
   "source": [
    "### Data Collection and Processing ###\n",
    "\n",
    "\n",
    "My maps account for climate-change caused global sea level rise as well as local subsidence, though I did not have time to make localized maps for each area of high subsidence: these projections are based on the average rate in the basin of [9.25 mm/yr](https://doi.org/10.3390/w8010010), which I muliplied by 50 and 100 individually to add to the [IPCC's global mean sea level projections for those years.](https://www.ipcc.ch/site/assets/uploads/2018/05/SYR_AR5_FINAL_full_wcover.pdf) Since the IPCC gave both high and low estimates, I found the combined rise for each scenario then took the average, which ended up being a 0.71 meter (2.3 foot) rise by 2050 and a 1.55 meter (5.1 foot) rise by 2100 all told. Without the contribution of subsidence, these figures would only be 0.25 m (0.82 ft) by 2050 and 0.62 m (2.03 ft) by 2100.\n",
    "\n",
    "I found my Digital Elevation Model (DEM) data, which is the heart of the map, on [Louisiana State University's GIS Atlas website.](https://atlas.ga.lsu.edu/about/) The DEM was produced from Light Detection and Ranging (LIDAR) remote sensing technology. Each file is for a quarter of a USGS 7.5’ quadrangle. DEM data is in raster format, which is one of the two major data types that ArcMap accepts. I downloaded only the data blocks I needed for my selected zones, since they were very high resolution (5 meters per pixel) and therefore large files. The DEM data was set in meters for the xy values, and feet for the z values, to the North American Datum of 1983 in a projection of Unviversal Transmercator zone 15 north. I projected all subsequent files to this coordinate system and datum. \n",
    "\n",
    "I created files that would show the different sea levels by reclassifying copies of my DEM zones. By selecting two zones and changing the first break to 0 for the 2000-2009 raster, 2.3 for 2050, and 5.1 for 2100, I was able to demarcate the files into below sea level and above sea level. I then selected the water from each file and created distinct shapefiles from these selections.\n",
    "\n",
    "I found a shapefile of the census tracts in Louisiana and a table with the population by census tract on census.gov, and joined the two in ArcMap.  By clipping the census tract files to the same areas as the water of my selected zones and examining the data tables, I was able to find out how many people total in each zone would be under sea level in each scenario. I added these figures to mini-narratives attached to each zone by a call-out box.\n",
    "\n",
    " "
   ]
  },
  {
   "cell_type": "markdown",
   "metadata": {},
   "source": [
    "## Issues with Creating the Map\n",
    "\n",
    "I ran into several issues and one big mystery when creating my data map. Since I am not intimately familiar with the data collection or the history and present nature of landscape change in Louisiana, I do not have any good explanations for the issues. The main mystery was that the Mississippi river running through New Orleans appeared to be a good number of feet above sea level when I reclassified my data into distinct zones representing different amounts of sea level rise predicted to occur in different years. My best guess for why the river appears to be far above sea level is that the river was very swollen on the day of data collection. The river is often at high water stage, or 8 feet above sea level, throughout the year (Image from [Slate](https://slate.com/business/2019/06/new-orleans-mississippi-river-high-water-climate-change.html))"
   ]
  },
  {
   "cell_type": "code",
   "execution_count": 30,
   "metadata": {},
   "outputs": [
    {
     "data": {
      "text/html": [
       "<img src=\"https://raw.githubusercontent.com/valhella/highwater/master/images/height_graph.png\" width=\"800\" height=\"300\"/>"
      ],
      "text/plain": [
       "<IPython.core.display.Image object>"
      ]
     },
     "execution_count": 30,
     "metadata": {},
     "output_type": "execute_result"
    }
   ],
   "source": [
    "Image(url = \"https://raw.githubusercontent.com/valhella/highwater/master/images/height_graph.png\", width = 800, height = 300)"
   ]
  },
  {
   "cell_type": "markdown",
   "metadata": {},
   "source": [
    "\n",
    "A geologic explaination for the high elevation of the *banks* of the river is that when rivers slow down, they deposit sediment. Over time, this sediment accumulates, until that river route is no longer efficient and the river cuts a new path. [Humans have prevented this re-routing from occuring with a great deal of effort.](https://www.theatlantic.com/technology/archive/2011/05/what-weve-done-to-the-mississippi-river-an-explainer/239058/) Though humans actively try to force the river to keep its path, this causes problems with flooding and nutrient deprivation of the floodplain due to the containment of the sediment. The river also chokes on its own sediment, and the Army Corps of Engineers must regularly dredge it. The height of the banks seen in the DEM may also be due to built structures, including levees."
   ]
  },
  {
   "cell_type": "code",
   "execution_count": 31,
   "metadata": {},
   "outputs": [
    {
     "data": {
      "text/html": [
       "<img src=\"https://raw.githubusercontent.com/valhella/highwater/master/images/Mississipimap.png\" width=\"800\" height=\"300\"/>"
      ],
      "text/plain": [
       "<IPython.core.display.Image object>"
      ]
     },
     "execution_count": 31,
     "metadata": {},
     "output_type": "execute_result"
    }
   ],
   "source": [
    "Image(url = \"https://raw.githubusercontent.com/valhella/highwater/master/images/Mississipimap.png\", width = 800, height = 300)"
   ]
  },
  {
   "cell_type": "markdown",
   "metadata": {},
   "source": [
    "Figure 8. The wonder of a free Mississippi River. Plate 22 of \"Ancient courses within the Mississippi River meander belt\" series of maps from [Fisk, H.N., 1944, Geological investigation of the alluvial valley of the lower Mississippi River: U.S. Department of the Army, Mississippi River Commission.](https://biotech.law.lsu.edu/climate/mississippi/fisk/Fisk_44_report2.pdf)"
   ]
  },
  {
   "cell_type": "markdown",
   "metadata": {},
   "source": [
    "## Uncertainty in Data Visualization\n",
    "\n",
    "One of the things that data visualizers have to wrangle with is the question of uncertainty. By including uncertainty in the data and in your own understanding, you may open yourself up to questioning, and your argument may not look as strong. By including uncertainty (though not necessarily making it the most prominent aspect of the work), respect for your work among a scientific and discerning audience is increased. Yet among a lay audience, the exact opposite effect may occur, if it is not common practice to show uncertainty. Depictions of uncertainty and statistics like standard deviation, p values, and r squared values in a linear regression are among the most misunderstood in data science. This is the area of data literacy that could benefit from a great increase in exposure and explanation. \n",
    "\n",
    "Though there was not an opportunity to show uncertainty in my map visualization itself, one issue that arose was mismatched and prolonged terms of data collection. I had no way of knowing what year each cell of DEM data was collected in, aside from knowing it was collected between 2000 and 2009. This DEM data is the highest resolution and most recent elevation data available for the state. I had no way to \"groundtruth\" the data, or ensure it matches physical reality. It would have been possible to look at aerial photography to discern possible sources of error, but this would have required a lot of time. \n",
    "\n"
   ]
  },
  {
   "cell_type": "markdown",
   "metadata": {},
   "source": [
    "## Accessibility\n",
    "\n",
    "Though I had great ambitions of making this project accessible, at the end of the day it really is not. I could not figure out how to embed sound or video, and I did not have enough time to make an accompanying physical visualization. Though my commentary would be accessible to visually-impaired individuals using a screen reader, all the data visualizations I used, including my own, would not be. I do not know if the colors I chose in my map have enough contrast to be distinguishable for a color-blind viewer. Learning the specific recommendations for making data visualizations more accessible is my next goal in this line of work. "
   ]
  },
  {
   "cell_type": "code",
   "execution_count": null,
   "metadata": {},
   "outputs": [],
   "source": []
  }
 ],
 "metadata": {
  "kernelspec": {
   "display_name": "Python 3",
   "language": "python",
   "name": "python3"
  },
  "language_info": {
   "codemirror_mode": {
    "name": "ipython",
    "version": 3
   },
   "file_extension": ".py",
   "mimetype": "text/x-python",
   "name": "python",
   "nbconvert_exporter": "python",
   "pygments_lexer": "ipython3",
   "version": "3.7.3"
  }
 },
 "nbformat": 4,
 "nbformat_minor": 2
}
